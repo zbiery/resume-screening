{
 "cells": [
  {
   "cell_type": "code",
   "execution_count": 1,
   "id": "bbfd3f3f",
   "metadata": {},
   "outputs": [
    {
     "name": "stdout",
     "output_type": "stream",
     "text": [
      "2025-07-16 20:43:56 | app.backend.services.groq | DEBUG | Retrieving Groq API key from Azure Key Vault...\n",
      "2025-07-16 20:43:58 | app.backend.services.groq | DEBUG | Groq API key retrieved.\n"
     ]
    }
   ],
   "source": [
    "from app.backend.core.file_processor import FileProcessor\n",
    "from app.backend.core.analyzer import Analyzer\n",
    "\n",
    "processor = FileProcessor()\n",
    "analyzer = await Analyzer.create()"
   ]
  },
  {
   "cell_type": "code",
   "execution_count": 10,
   "id": "f9a409a2",
   "metadata": {},
   "outputs": [],
   "source": [
    "job = \"\"\"\n",
    "TestCorp LLC. is at the forefront of digital reinvention, helping clients reimagine how they serve their connected customers and operate enterprises. We’re looking for an experienced artificial intelligence engineer to join the revolution, using deep learning, neuro-linguistic programming (NLP), computer vision, chatbots, and robotics to help us improve various business outcomes and drive innovation. The engineer will join a multidisciplinary team helping to shape our AI strategy and showcasing the potential for AI through early-stage solutions. This is an excellent opportunity to take advantage of emerging trends and technologies and make a real-world difference.\n",
    "Objectives of this role\n",
    "\t• Manage and direct processes and R&D (research and development) to meet the needs of our AI strategy\n",
    "\t• Understand company and client challenges and how integrating AI capabilities can help lead to solutions\n",
    "\t• Lead cross-functional teams in identifying and prioritizing key areas of a partner’s business where AI solutions can drive significant business benefit\n",
    "\t• Analyze and explain AI and machine learning (ML) solutions while setting and maintaining high ethical standards\n",
    "Responsibilities\n",
    "\t• Advise C-suite executives and business leaders on a broad range of technology, strategy, and policy issues associated with AI\n",
    "\t• Work on functional design, process design (including scenario design, flow mapping), prototyping, testing, training, and defining support procedures, in collaboration with an advanced engineering team and executive leadership\n",
    "\t• Articulate and document the solutions architecture and lessons learned for each exploration and accelerated incubation\n",
    "\t• Manage a team in conducting assessments of the AI and automation market and competitor landscape\n",
    "\t• Serve as liaison between stakeholders and project teams, delivering feedback and enabling team members to make necessary changes in product performance or presentation\n",
    "Required skills and qualifications\n",
    "\t• Two or more years of experience in applying AI to practical and comprehensive technology solutions\n",
    "\t• Experience with ML, deep learning, TensorFlow, Python, NLP\n",
    "\t• Experience in program leadership, governance, and change enablement\n",
    "\t• Knowledge of basic algorithms, object-oriented and functional design principles, and best-practice patterns\n",
    "\t• Experience in REST API development, NoSQL database design, and RDBMS design and optimizations\n",
    "Preferred skills and qualifications\n",
    "\t• Bachelor’s or master's degree in computer science or related field\n",
    "\t• Experience with innovation accelerators\n",
    "\t• Experience with cloud environments\n",
    "\n",
    "\"\"\""
   ]
  },
  {
   "cell_type": "code",
   "execution_count": 11,
   "id": "e79c865d",
   "metadata": {},
   "outputs": [
    {
     "name": "stdout",
     "output_type": "stream",
     "text": [
      "2025-07-16 20:46:23 | app.backend.services.groq | INFO | Running structured query with function calling using ainvoke...\n",
      "2025-07-16 20:46:24 | app.backend.services.groq | DEBUG | Beautified JSON args:\n",
      "{\n",
      "    \"certificate\": [],\n",
      "    \"domain\": \"Artificial Intelligence\",\n",
      "    \"educational_requirements\": [{\n",
      "        \"fields\": [\"Computer Science\"],\n",
      "        \"level\": \"Bachelor's\"\n",
      "    }, {\n",
      "        \"fields\": [\"Computer Science\"],\n",
      "        \"level\": \"Master's\"\n",
      "    }],\n",
      "    \"employment_type\": \"\",\n",
      "    \"experience\": [\"2+ years in applying AI to practical and comprehensive technology solutions\", \"Experience in program leadership, governance, and change enablement\", \"Experience with ML, deep learning, TensorFlow, Python, NLP\", \"Experience in REST API development, NoSQL database design, and RDBMS design and optimizations\"],\n",
      "    \"ideal_candidate_summary\": \"\",\n",
      "    \"job_level\": \"\",\n",
      "    \"job_title\": \"Artificial Intelligence Engineer\",\n",
      "    \"location_requirement\": \"\",\n",
      "    \"responsibilities\": [\"Manage and direct processes and R\\u0026D to meet the needs of AI strategy\", \"Understand company and client challenges and how integrating AI capabilities can help lead to solutions\", \"Lead cross-functional teams in identifying and prioritizing key areas of a partner’s business where AI solutions can drive significant business benefit\", \"Analyze and explain AI and machine learning (ML) solutions while setting and maintaining high ethical standards\", \"Advise C-suite executives and business leaders on a broad range of technology, strategy, and policy issues associated with AI\", \"Work on functional design, process design, prototyping, testing, training, and defining support procedures\", \"Articulate and document the solutions architecture and lessons learned for each exploration and accelerated incubation\", \"Manage a team in conducting assessments of the AI and automation market and competitor landscape\", \"Serve as liaison between stakeholders and project teams, delivering feedback and enabling team members to make necessary changes in product performance or presentation\"],\n",
      "    \"soft_skill\": [\"program leadership\", \"governance\", \"change enablement\", \"team management\"],\n",
      "    \"technical_skill\": [\"ML\", \"deep learning\", \"TensorFlow\", \"Python\", \"NLP\", \"REST API development\", \"NoSQL database design\", \"RDBMS design and optimizations\"],\n",
      "    \"years_of_experience\": 2\n",
      "}\n"
     ]
    }
   ],
   "source": [
    "job_response = await analyzer.analyze_job(job)"
   ]
  },
  {
   "cell_type": "code",
   "execution_count": 6,
   "id": "b396c9da",
   "metadata": {},
   "outputs": [
    {
     "name": "stdout",
     "output_type": "stream",
     "text": [
      "2025-07-16 20:45:12 | app.backend.core.file_processor | INFO | Extracting text from local file: data/ZacharyBiery_CV_2024.pdf\n",
      "2025-07-16 20:45:12 | app.backend.core.file_processor | INFO | Using .PDF parser for file: data/ZacharyBiery_CV_2024.pdf\n",
      "2025-07-16 20:45:12 | app.backend.core.file_processor | INFO | Extracting text from 'data/ZacharyBiery_CV_2024.pdf' using local PDF parser (pypdf)\n",
      "2025-07-16 20:45:13 | app.backend.services.groq | INFO | Running structured query with function calling using ainvoke...\n",
      "2025-07-16 20:45:14 | app.backend.services.groq | DEBUG | Beautified JSON args:\n",
      "{\n",
      "    \"candidate_name\": \"Zachary Biery\",\n",
      "    \"certificate\": [],\n",
      "    \"comment\": \"Zachary Biery is a highly skilled and motivated individual with experience in data science, business analytics, and software development. He has a strong educational background in business analytics and has worked on various projects and internships, showcasing his technical skills and soft skills.\",\n",
      "    \"education\": [{\n",
      "        \"field\": \"Business Analytics\",\n",
      "        \"institution\": \"University of Cincinnati\",\n",
      "        \"level\": \"Masters\",\n",
      "        \"year\": \"2025\"\n",
      "    }, {\n",
      "        \"field\": \"Business Analytics\",\n",
      "        \"gpa\": \"4.0\",\n",
      "        \"institution\": \"University of Cincinnati\",\n",
      "        \"level\": \"Bachelor's\",\n",
      "        \"year\": \"2024\"\n",
      "    }],\n",
      "    \"email\": \"bieryzt@mail.uc.edu\",\n",
      "    \"job_recommended\": [\"Data Scientist\", \"Business Analyst\", \"Software Engineer\"],\n",
      "    \"phone_number\": \"(513)491-2255\",\n",
      "    \"responsibilities\": [\"Data analysis\", \"Machine learning model development\", \"Software development\", \"Data visualization\", \"Workflow automation\"],\n",
      "    \"roles\": [{\n",
      "        \"company\": \"Medpace\",\n",
      "        \"summary\": \"Trained and implemented NLP machine learning models, created multi-class classification models, and developed a contract management software.\",\n",
      "        \"title\": \"Data Science Intern\"\n",
      "    }, {\n",
      "        \"company\": \"Toyota North America\",\n",
      "        \"summary\": \"Assisted in developing an interactive UI, created complex tables and views in SQL Server, and developed a mobile application.\",\n",
      "        \"title\": \"Systems \\u0026 Business Intelligence Intern\"\n",
      "    }, {\n",
      "        \"company\": \"Kroger\",\n",
      "        \"summary\": \"Built interactive dashboards, used ETL best practices, and assisted in developing data remediation systems.\",\n",
      "        \"title\": \"Data Analyst Intern\"\n",
      "    }],\n",
      "    \"soft_skill\": [\"Leadership\", \"Communication\", \"Teamwork\", \"Problem-solving\"],\n",
      "    \"technical_skill\": [\"Python\", \"R\", \"SQL\", \"C++\", \"C#\", \"HTML\", \"CSS\", \"Tableau\", \"PowerBI\", \"Snowflake\", \"dbt\", \"git\", \"MS Power Platform\"],\n",
      "    \"websites\": [\"www.linkedin.com/zachary-biery\"],\n",
      "    \"years_of_experience\": 2\n",
      "}\n"
     ]
    }
   ],
   "source": [
    "resume = await processor.extract_from_file(\"data/ZacharyBiery_CV_2024.pdf\")\n",
    "candidate_response = await analyzer.analyze_candidate(resume)"
   ]
  },
  {
   "cell_type": "code",
   "execution_count": 12,
   "id": "a122b86d",
   "metadata": {},
   "outputs": [
    {
     "name": "stdout",
     "output_type": "stream",
     "text": [
      "{\"candidate\": {\"candidate_name\": \"Zachary Biery\", \"certificate\": [], \"comment\": \"Zachary Biery is a highly skilled and motivated individual with experience in data science, business analytics, and software development. He has a strong educational background in business analytics and has worked on various projects and internships, showcasing his technical skills and soft skills.\", \"education\": [{\"field\": \"Business Analytics\", \"institution\": \"University of Cincinnati\", \"level\": \"Masters\", \"year\": \"2025\"}, {\"field\": \"Business Analytics\", \"gpa\": \"4.0\", \"institution\": \"University of Cincinnati\", \"level\": \"Bachelor's\", \"year\": \"2024\"}], \"email\": \"bieryzt@mail.uc.edu\", \"job_recommended\": [\"Data Scientist\", \"Business Analyst\", \"Software Engineer\"], \"phone_number\": \"(513)491-2255\", \"responsibilities\": [\"Data analysis\", \"Machine learning model development\", \"Software development\", \"Data visualization\", \"Workflow automation\"], \"roles\": [{\"company\": \"Medpace\", \"summary\": \"Trained and implemented NLP machine learning models, created multi-class classification models, and developed a contract management software.\", \"title\": \"Data Science Intern\"}, {\"company\": \"Toyota North America\", \"summary\": \"Assisted in developing an interactive UI, created complex tables and views in SQL Server, and developed a mobile application.\", \"title\": \"Systems & Business Intelligence Intern\"}, {\"company\": \"Kroger\", \"summary\": \"Built interactive dashboards, used ETL best practices, and assisted in developing data remediation systems.\", \"title\": \"Data Analyst Intern\"}], \"soft_skill\": [\"Leadership\", \"Communication\", \"Teamwork\", \"Problem-solving\"], \"technical_skill\": [\"Python\", \"R\", \"SQL\", \"C++\", \"C#\", \"HTML\", \"CSS\", \"Tableau\", \"PowerBI\", \"Snowflake\", \"dbt\", \"git\", \"MS Power Platform\"], \"websites\": [\"www.linkedin.com/zachary-biery\"], \"years_of_experience\": 2}, \"job\": {\"certificate\": [], \"domain\": \"Artificial Intelligence\", \"educational_requirements\": [{\"fields\": [\"Computer Science\"], \"level\": \"Bachelor's\"}, {\"fields\": [\"Computer Science\"], \"level\": \"Master's\"}], \"employment_type\": \"\", \"experience\": [\"2+ years in applying AI to practical and comprehensive technology solutions\", \"Experience in program leadership, governance, and change enablement\", \"Experience with ML, deep learning, TensorFlow, Python, NLP\", \"Experience in REST API development, NoSQL database design, and RDBMS design and optimizations\"], \"ideal_candidate_summary\": \"\", \"job_level\": \"\", \"job_title\": \"Artificial Intelligence Engineer\", \"location_requirement\": \"\", \"responsibilities\": [\"Manage and direct processes and R&D to meet the needs of AI strategy\", \"Understand company and client challenges and how integrating AI capabilities can help lead to solutions\", \"Lead cross-functional teams in identifying and prioritizing key areas of a partner\\u2019s business where AI solutions can drive significant business benefit\", \"Analyze and explain AI and machine learning (ML) solutions while setting and maintaining high ethical standards\", \"Advise C-suite executives and business leaders on a broad range of technology, strategy, and policy issues associated with AI\", \"Work on functional design, process design, prototyping, testing, training, and defining support procedures\", \"Articulate and document the solutions architecture and lessons learned for each exploration and accelerated incubation\", \"Manage a team in conducting assessments of the AI and automation market and competitor landscape\", \"Serve as liaison between stakeholders and project teams, delivering feedback and enabling team members to make necessary changes in product performance or presentation\"], \"soft_skill\": [\"program leadership\", \"governance\", \"change enablement\", \"team management\"], \"technical_skill\": [\"ML\", \"deep learning\", \"TensorFlow\", \"Python\", \"NLP\", \"REST API development\", \"NoSQL database design\", \"RDBMS design and optimizations\"], \"years_of_experience\": 2}}\n",
      "978.75\n"
     ]
    }
   ],
   "source": [
    "import json\n",
    "\n",
    "combined_input = {\n",
    "    \"candidate\": candidate_response,\n",
    "    \"job\": job_response\n",
    "}\n",
    "combined_input_str = json.dumps(combined_input)\n",
    "print(combined_input_str)\n",
    "print(len(combined_input_str)/4)"
   ]
  },
  {
   "cell_type": "code",
   "execution_count": 13,
   "id": "45d09813",
   "metadata": {},
   "outputs": [
    {
     "name": "stdout",
     "output_type": "stream",
     "text": [
      "2025-07-16 20:46:42 | app.backend.services.groq | INFO | Running structured query with function calling using ainvoke...\n",
      "2025-07-16 20:46:44 | app.backend.services.groq | DEBUG | Beautified JSON args:\n",
      "{\n",
      "    \"certificate\": {\n",
      "        \"comment\": \"The job does not require any specific certificates, and the candidate does not have any certificates listed.\",\n",
      "        \"score\": 0\n",
      "    },\n",
      "    \"domain\": {\n",
      "        \"comment\": \"The job is in the domain of Artificial Intelligence, while the candidate has experience in data science, business analytics, and software development. There is some relevance but not a direct match.\",\n",
      "        \"score\": 50\n",
      "    },\n",
      "    \"education\": {\n",
      "        \"comment\": \"The job requires a Bachelor's or Master's in Computer Science. The candidate has a Master's and Bachelor's in Business Analytics, which is related but not directly aligned with Computer Science.\",\n",
      "        \"score\": 80\n",
      "    },\n",
      "    \"experience\": {\n",
      "        \"comment\": \"The job requires 2+ years of experience in applying AI to practical solutions, including experience with ML, deep learning, and Python. The candidate has 2 years of experience in data science and business analytics, with some relevant technical skills.\",\n",
      "        \"score\": 60\n",
      "    },\n",
      "    \"gaps\": [\"Limited direct experience in Artificial Intelligence\", \"No experience in program leadership or governance\", \"Limited experience with deep learning and TensorFlow\"],\n",
      "    \"overall_summary\": \"The candidate has a strong educational background in business analytics and relevant experience in data science and software development. However, the candidate lacks direct experience in Artificial Intelligence and program leadership. The technical skills overlap partially with the job requirements. Overall, the candidate is a moderate match for the Artificial Intelligence Engineer position.\",\n",
      "    \"responsibility\": {\n",
      "        \"comment\": \"The job involves managing processes, leading teams, and advising executives on AI strategy. The candidate has experience in data analysis, machine learning model development, and software development, but not directly in leadership or governance.\",\n",
      "        \"score\": 70\n",
      "    },\n",
      "    \"soft_skill\": {\n",
      "        \"comment\": \"The job requires program leadership, governance, and change enablement. The candidate has soft skills in leadership, communication, teamwork, and problem-solving, which are partially relevant.\",\n",
      "        \"score\": 60\n",
      "    },\n",
      "    \"strengths\": [\"Strong educational background in business analytics\", \"Experience in data science, machine learning model development, and software development\", \"Technical skills in Python, R, SQL, and C++\"],\n",
      "    \"technical_skill\": {\n",
      "        \"comment\": \"The job requires technical skills in ML, deep learning, TensorFlow, Python, and NLP. The candidate has technical skills in Python, R, SQL, and C++, which overlap with some of the required skills.\",\n",
      "        \"score\": 80\n",
      "    },\n",
      "    \"verdict\": \"Moderate match\"\n",
      "}\n"
     ]
    }
   ],
   "source": [
    "match_response = await analyzer.match(candidate_analysis=candidate_response, job_analysis=job_response)"
   ]
  },
  {
   "cell_type": "code",
   "execution_count": 14,
   "id": "633addaa",
   "metadata": {},
   "outputs": [
    {
     "name": "stdout",
     "output_type": "stream",
     "text": [
      "70.5\n"
     ]
    }
   ],
   "source": [
    "def compute_match_score(match_result: dict) -> float:\n",
    "    weights = {\n",
    "        \"education\": 0.20,\n",
    "        \"experience\": 0.25,\n",
    "        \"technical_skill\": 0.25,\n",
    "        \"responsibility\": 0.20,\n",
    "        \"soft_skill\": 0.05,\n",
    "        \"domain\": 0.05,\n",
    "        \"certificate\": 0,\n",
    "    }\n",
    "\n",
    "    total_score = 0\n",
    "    for key, weight in weights.items():\n",
    "        score = match_result.get(key, {}).get(\"score\", 0)\n",
    "        total_score += score * weight\n",
    "\n",
    "    return round(total_score, 2)\n",
    "\n",
    "print(compute_match_score(match_response))\n"
   ]
  },
  {
   "cell_type": "code",
   "execution_count": 1,
   "id": "058d36eb",
   "metadata": {},
   "outputs": [
    {
     "name": "stdout",
     "output_type": "stream",
     "text": [
      "2025-07-07 00:38:58 | app.backend.services.groq | DEBUG | Retrieving Groq API key from Azure Key Vault...\n",
      "2025-07-07 00:39:01 | app.backend.services.groq | DEBUG | Groq API key retrieved.\n"
     ]
    },
    {
     "name": "stderr",
     "output_type": "stream",
     "text": [
      "Unclosed client session\n",
      "client_session: <aiohttp.client.ClientSession object at 0x00000255A5E7B1C0>\n"
     ]
    },
    {
     "name": "stdout",
     "output_type": "stream",
     "text": [
      "2025-07-07 00:39:01 | app.backend.services.groq | INFO | Calling Groq model 'llama3-70b-8192' using ainvoke...\n",
      "The total area of the United Kingdom (UK) is approximately 243,610 square kilometers (93,625 square miles). This includes:\n",
      "\n",
      "* England: 130,279 km² (50,261 sq mi)\n",
      "* Scotland: 78,772 km² (30,414 sq mi)\n",
      "* Wales: 20,779 km² (8,023 sq mi)\n",
      "* Northern Ireland: 14,160 km² (5,470 sq mi)\n",
      "\n",
      "Note: These figures are approximate and may vary slightly depending on the source.\n"
     ]
    }
   ],
   "source": [
    "from app.backend.services.factory import AIServiceFactory\n",
    "\n",
    "service = await AIServiceFactory.create_service()\n",
    "response = await service.query(\"What is the area of the UK?\")\n",
    "print(response)"
   ]
  },
  {
   "cell_type": "code",
   "execution_count": 13,
   "id": "65be11bf",
   "metadata": {},
   "outputs": [],
   "source": [
    "from datetime import date\n",
    "\n",
    "prompt = f\"\"\"\n",
    "You are an expert HR recruiter and resume screener. Your task is to extract relevant information from a resume and organize it into structured categories using the format below.\n",
    "\n",
    "---\n",
    "\n",
    "**Categories**:\n",
    "\n",
    "1. **Synopsis** - A personal summary, description, or “about me” section.  \n",
    "2. **Experience** - Includes jobs/internships under `<job>` and standalone projects under `<project>`.  \n",
    "3. **Education** - Each degree appears under a `<degreeEntry>` with optional GPA and graduation year.  \n",
    "4. **Skills** - Divided into technical and non-technical.\n",
    "\n",
    "---\n",
    "\n",
    "**Important Instructions**:\n",
    "- If no synopsis is present, insert the word `Unknown` in the `<synopsis>` tag.\n",
    "- Do **not** invent or infer missing information. Only extract what is explicitly present.\n",
    "- Use the exact XML structure and tag names provided.\n",
    "- All durations must use time units (e.g., `\"3 months\"`, `\"2 years\"`).\n",
    "- Only include UTF-8 characters. Strip bullets, markdown, or decorative formatting.\n",
    "    - If only a single month is present in the date range, the duration is `\"1 month\"`\n",
    "    - For reference, `\"Present\"` in a job duration refers to {date.today()}\n",
    "\n",
    "---\n",
    "\n",
    "**Format your output as follows**:\n",
    "\n",
    "```xml\n",
    "<resume>\n",
    "    <synopsis>\n",
    "        INSERT SYNOPSIS INFORMATION HERE\n",
    "    </synopsis>\n",
    "    <experience>\n",
    "        <job>\n",
    "            <company>\n",
    "                INSERT COMPANY NAME\n",
    "            </company>\n",
    "            <duration>\n",
    "                INSERT JOB DURATION\n",
    "            </duration>\n",
    "            <description>\n",
    "                INSERT JOB DESCRIPTION\n",
    "            </description>\n",
    "        </job>\n",
    "        <!-- Repeat <job> as needed -->\n",
    "\n",
    "        <project>\n",
    "            <name>\n",
    "                INSERT PROJECT NAME\n",
    "            </name>\n",
    "            <duration>\n",
    "                INSERT PROJECT DURATION (if available)\n",
    "            </duration>\n",
    "            <description>\n",
    "                INSERT PROJECT DESCRIPTION\n",
    "            </description>\n",
    "        </project>\n",
    "        <!-- Repeat <project> as needed -->\n",
    "    </experience>\n",
    "    <education>\n",
    "        <degreeEntry>\n",
    "            <university>\n",
    "                INSERT UNIVERSITY NAME\n",
    "            </university>\n",
    "            <degree>\n",
    "                <level>\n",
    "                    INSERT DEGREE LEVEL (e.g., Doctorate, Masters, Baccalaureate)\n",
    "                </level>\n",
    "                <name>\n",
    "                    INSERT DEGREE NAME (e.g., Computer Science)\n",
    "                </name>\n",
    "            </degree>\n",
    "            <graduationYear>\n",
    "                INSERT GRADUATION YEAR (if available)\n",
    "            </graduationYear>\n",
    "            <gpa>\n",
    "                INSERT GPA (if available)\n",
    "            </gpa>\n",
    "        </degreeEntry>\n",
    "        <!-- Repeat <degreeEntry> as needed -->\n",
    "    </education>\n",
    "    <skills>\n",
    "        <technical>\n",
    "            <software>\n",
    "                LIST SOFTWARE SKILLS\n",
    "            </software>\n",
    "            <languages>\n",
    "                LIST PROGRAMMING LANGUAGES\n",
    "            </languages>\n",
    "            <frameworks>\n",
    "                LIST FRAMEWORKS\n",
    "            </frameworks>\n",
    "            <tools>\n",
    "                LIST TECHNICAL TOOLS\n",
    "            </tools>\n",
    "        </technical>\n",
    "        <nontechnical>\n",
    "            LIST NON-TECHNICAL SKILLS\n",
    "        </nontechnical>\n",
    "    </skills>\n",
    "</resume>\n",
    "\n",
    "---\n",
    "\n",
    "You will now be given a resume in plain text. Extract and organize the information as described above.\n",
    "**Resume**:  \n",
    "{resume}\n",
    "\"\"\""
   ]
  }
 ],
 "metadata": {
  "kernelspec": {
   "display_name": ".venv",
   "language": "python",
   "name": "python3"
  },
  "language_info": {
   "codemirror_mode": {
    "name": "ipython",
    "version": 3
   },
   "file_extension": ".py",
   "mimetype": "text/x-python",
   "name": "python",
   "nbconvert_exporter": "python",
   "pygments_lexer": "ipython3",
   "version": "3.10.0"
  }
 },
 "nbformat": 4,
 "nbformat_minor": 5
}
