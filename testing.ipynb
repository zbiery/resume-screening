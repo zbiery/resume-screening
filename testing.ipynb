{
 "cells": [
  {
   "cell_type": "code",
   "execution_count": 1,
   "id": "bbfd3f3f",
   "metadata": {},
   "outputs": [
    {
     "name": "stdout",
     "output_type": "stream",
     "text": [
      "2025-07-08 00:20:59 | app.backend.services.groq | DEBUG | Retrieving Groq API key from Azure Key Vault...\n",
      "2025-07-08 00:21:02 | app.backend.services.groq | DEBUG | Groq API key retrieved.\n"
     ]
    }
   ],
   "source": [
    "from app.backend.core.file_processor import FileProcessor\n",
    "from app.backend.core.analyzer import Analyzer\n",
    "\n",
    "processor = FileProcessor()\n",
    "analyzer = await Analyzer.create()\n"
   ]
  },
  {
   "cell_type": "code",
   "execution_count": 2,
   "id": "b396c9da",
   "metadata": {},
   "outputs": [
    {
     "name": "stdout",
     "output_type": "stream",
     "text": [
      "2025-07-08 00:21:05 | app.backend.core.file_processor | INFO | Extracting text from local file: data/ExampleResume1.pdf\n",
      "2025-07-08 00:21:05 | app.backend.core.file_processor | INFO | Using .PDF parser for file: data/ExampleResume1.pdf\n",
      "2025-07-08 00:21:05 | app.backend.core.file_processor | INFO | Extracting text from 'data/ExampleResume1.pdf' using local PDF parser (pypdf)\n",
      "2025-07-08 00:21:05 | app.backend.services.groq | INFO | Running structured query with function calling using ainvoke...\n",
      "2025-07-08 00:21:08 | app.backend.services.groq | DEBUG | Beautified JSON args:\n",
      "{\n",
      "    \"candidate_name\": \"Hedy Lamarr\",\n",
      "    \"certificate\": [],\n",
      "    \"comment\": \"Hedy Lamarr has a strong background in computer science and statistics, with experience in data engineering and software development. She has worked with various technologies and has a proven track record of delivering results in fast-paced environments.\",\n",
      "    \"education\": [{\n",
      "        \"field\": \"Computer Science, Statistics\",\n",
      "        \"institution\": \"University of North Carolina at Chapel Hill\",\n",
      "        \"level\": \"Baccalaureate\",\n",
      "        \"year\": \"2026\"\n",
      "    }],\n",
      "    \"email\": \"hedylamarr@email.edu\",\n",
      "    \"job_recommended\": [\"Data Engineer\", \"Software Engineer\"],\n",
      "    \"phone_number\": \"(555) 555-5555\",\n",
      "    \"responsibilities\": [\"Designed and implemented datasets\", \"Analyzed and validated targeted audiobook campaigns\", \"Managed and coordinated support tasks\", \"Pioneered dashboard systems\", \"Streamlined complex data sources\", \"Automated API test suites\"],\n",
      "    \"roles\": [{\n",
      "        \"company\": \"Spotify\",\n",
      "        \"summary\": \"Designed a cumulative aggregated dataset hosted in BigQuery and GCS to unify multiple data pipelines for podcast consumption metadata, centralizing data sources and reducing computational overhead for various metrics.\",\n",
      "        \"title\": \"Data Engineer Intern\"\n",
      "    }, {\n",
      "        \"company\": \"UNC Department of Computer Science\",\n",
      "        \"summary\": \"Hosting 10 weekly office hours and grading exams for over 200 students enrolled in Object-Oriented Programming.\",\n",
      "        \"title\": \"Lead Teaching Assistant\"\n",
      "    }, {\n",
      "        \"company\": \"Apple Inc.\",\n",
      "        \"summary\": \"Pioneered a multi-level Tableau dashboard system for Apple Maps, automating project status reporting and KPI monitoring for 10+ regional sub-teams.\",\n",
      "        \"title\": \"Data Engineer Intern\"\n",
      "    }, {\n",
      "        \"company\": \"Comtech Telecommunications\",\n",
      "        \"summary\": \"Built and deployed 8 new front-end features and improvements to the emergency locator web platform within 6 months.\",\n",
      "        \"title\": \"Software Engineer Intern\"\n",
      "    }],\n",
      "    \"soft_skill\": [],\n",
      "    \"technical_skill\": [\"C\", \"Java\", \"JavaScript\", \"Python\", \"R\", \"Scala\", \"SQL\", \"Docker\", \"Flask\", \"Git\", \"Node.js\", \"PyTorch\", \"React.js\", \"REST APIs\", \"Apache Beam/Hadoop/Spark\", \"BigQuery\", \"GCP\", \"Jira\", \"Jenkins\", \"Jupyter\", \"Snowflake\", \"Tableau\"],\n",
      "    \"websites\": [\"linkedin.com/in/hedylamarr111\"],\n",
      "    \"years_of_experience\": 2.5\n",
      "}\n"
     ]
    }
   ],
   "source": [
    "resume = await processor.extract_from_file(\"data/ExampleResume1.pdf\")\n",
    "response = await analyzer.analyze_candidate(resume)"
   ]
  },
  {
   "cell_type": "code",
   "execution_count": 1,
   "id": "058d36eb",
   "metadata": {},
   "outputs": [
    {
     "name": "stdout",
     "output_type": "stream",
     "text": [
      "2025-07-07 00:38:58 | app.backend.services.groq | DEBUG | Retrieving Groq API key from Azure Key Vault...\n",
      "2025-07-07 00:39:01 | app.backend.services.groq | DEBUG | Groq API key retrieved.\n"
     ]
    },
    {
     "name": "stderr",
     "output_type": "stream",
     "text": [
      "Unclosed client session\n",
      "client_session: <aiohttp.client.ClientSession object at 0x00000255A5E7B1C0>\n"
     ]
    },
    {
     "name": "stdout",
     "output_type": "stream",
     "text": [
      "2025-07-07 00:39:01 | app.backend.services.groq | INFO | Calling Groq model 'llama3-70b-8192' using ainvoke...\n",
      "The total area of the United Kingdom (UK) is approximately 243,610 square kilometers (93,625 square miles). This includes:\n",
      "\n",
      "* England: 130,279 km² (50,261 sq mi)\n",
      "* Scotland: 78,772 km² (30,414 sq mi)\n",
      "* Wales: 20,779 km² (8,023 sq mi)\n",
      "* Northern Ireland: 14,160 km² (5,470 sq mi)\n",
      "\n",
      "Note: These figures are approximate and may vary slightly depending on the source.\n"
     ]
    }
   ],
   "source": [
    "from app.backend.services.factory import AIServiceFactory\n",
    "\n",
    "service = await AIServiceFactory.create_service()\n",
    "response = await service.query(\"What is the area of the UK?\")\n",
    "print(response)"
   ]
  },
  {
   "cell_type": "code",
   "execution_count": 13,
   "id": "65be11bf",
   "metadata": {},
   "outputs": [],
   "source": [
    "from datetime import date\n",
    "\n",
    "prompt = f\"\"\"\n",
    "You are an expert HR recruiter and resume screener. Your task is to extract relevant information from a resume and organize it into structured categories using the format below.\n",
    "\n",
    "---\n",
    "\n",
    "**Categories**:\n",
    "\n",
    "1. **Synopsis** - A personal summary, description, or “about me” section.  \n",
    "2. **Experience** - Includes jobs/internships under `<job>` and standalone projects under `<project>`.  \n",
    "3. **Education** - Each degree appears under a `<degreeEntry>` with optional GPA and graduation year.  \n",
    "4. **Skills** - Divided into technical and non-technical.\n",
    "\n",
    "---\n",
    "\n",
    "**Important Instructions**:\n",
    "- If no synopsis is present, insert the word `Unknown` in the `<synopsis>` tag.\n",
    "- Do **not** invent or infer missing information. Only extract what is explicitly present.\n",
    "- Use the exact XML structure and tag names provided.\n",
    "- All durations must use time units (e.g., `\"3 months\"`, `\"2 years\"`).\n",
    "- Only include UTF-8 characters. Strip bullets, markdown, or decorative formatting.\n",
    "    - If only a single month is present in the date range, the duration is `\"1 month\"`\n",
    "    - For reference, `\"Present\"` in a job duration refers to {date.today()}\n",
    "\n",
    "---\n",
    "\n",
    "**Format your output as follows**:\n",
    "\n",
    "```xml\n",
    "<resume>\n",
    "    <synopsis>\n",
    "        INSERT SYNOPSIS INFORMATION HERE\n",
    "    </synopsis>\n",
    "    <experience>\n",
    "        <job>\n",
    "            <company>\n",
    "                INSERT COMPANY NAME\n",
    "            </company>\n",
    "            <duration>\n",
    "                INSERT JOB DURATION\n",
    "            </duration>\n",
    "            <description>\n",
    "                INSERT JOB DESCRIPTION\n",
    "            </description>\n",
    "        </job>\n",
    "        <!-- Repeat <job> as needed -->\n",
    "\n",
    "        <project>\n",
    "            <name>\n",
    "                INSERT PROJECT NAME\n",
    "            </name>\n",
    "            <duration>\n",
    "                INSERT PROJECT DURATION (if available)\n",
    "            </duration>\n",
    "            <description>\n",
    "                INSERT PROJECT DESCRIPTION\n",
    "            </description>\n",
    "        </project>\n",
    "        <!-- Repeat <project> as needed -->\n",
    "    </experience>\n",
    "    <education>\n",
    "        <degreeEntry>\n",
    "            <university>\n",
    "                INSERT UNIVERSITY NAME\n",
    "            </university>\n",
    "            <degree>\n",
    "                <level>\n",
    "                    INSERT DEGREE LEVEL (e.g., Doctorate, Masters, Baccalaureate)\n",
    "                </level>\n",
    "                <name>\n",
    "                    INSERT DEGREE NAME (e.g., Computer Science)\n",
    "                </name>\n",
    "            </degree>\n",
    "            <graduationYear>\n",
    "                INSERT GRADUATION YEAR (if available)\n",
    "            </graduationYear>\n",
    "            <gpa>\n",
    "                INSERT GPA (if available)\n",
    "            </gpa>\n",
    "        </degreeEntry>\n",
    "        <!-- Repeat <degreeEntry> as needed -->\n",
    "    </education>\n",
    "    <skills>\n",
    "        <technical>\n",
    "            <software>\n",
    "                LIST SOFTWARE SKILLS\n",
    "            </software>\n",
    "            <languages>\n",
    "                LIST PROGRAMMING LANGUAGES\n",
    "            </languages>\n",
    "            <frameworks>\n",
    "                LIST FRAMEWORKS\n",
    "            </frameworks>\n",
    "            <tools>\n",
    "                LIST TECHNICAL TOOLS\n",
    "            </tools>\n",
    "        </technical>\n",
    "        <nontechnical>\n",
    "            LIST NON-TECHNICAL SKILLS\n",
    "        </nontechnical>\n",
    "    </skills>\n",
    "</resume>\n",
    "\n",
    "---\n",
    "\n",
    "You will now be given a resume in plain text. Extract and organize the information as described above.\n",
    "**Resume**:  \n",
    "{resume}\n",
    "\"\"\""
   ]
  }
 ],
 "metadata": {
  "kernelspec": {
   "display_name": ".venv",
   "language": "python",
   "name": "python3"
  },
  "language_info": {
   "codemirror_mode": {
    "name": "ipython",
    "version": 3
   },
   "file_extension": ".py",
   "mimetype": "text/x-python",
   "name": "python",
   "nbconvert_exporter": "python",
   "pygments_lexer": "ipython3",
   "version": "3.10.0"
  }
 },
 "nbformat": 4,
 "nbformat_minor": 5
}
